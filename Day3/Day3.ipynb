{
 "cells": [
  {
   "cell_type": "markdown",
   "id": "6bd0f764",
   "metadata": {},
   "source": [
    "##  Day 3: Gear Ratios \n",
    "### Part 1\n",
    "The engine schematic consists of a visual representation of the engine. There are lots of numbers and symbols you don't really understand, but apparently any number adjacent to a symbol, even diagonally, is a \"part number\" and should be included in your sum. (Periods (.) do not count as a symbol.)\n",
    "\n",
    "Here is an example engine schematic:\n",
    "\n",
    "467..114.. \\\n",
    "......... \\\n",
    "..35..633. \\\n",
    "......#... \\\n",
    "617...... \\\n",
    ".....+.58. \\\n",
    "..592..... \\\n",
    "......755. \\\n",
    "...$.*.... \\\n",
    ".664.598.. \n",
    "\n",
    "\n",
    "In this schematic, two numbers are not part numbers because they are not adjacent to a symbol: 114 (top right) and 58 (middle right). Every other number is adjacent to a symbol and so is a part number; their sum is 4361.\n",
    "What is the sum of all of the part numbers in the engine schematic?\n",
    "\n",
    "Your puzzle answer was 536202.\n",
    "\n"
   ]
  },
  {
   "cell_type": "code",
   "execution_count": 15,
   "id": "63986de7",
   "metadata": {},
   "outputs": [],
   "source": [
    "def adjacent_to(lista, row, col):\n",
    "    directions = [(-1, -1), (-1, 0), (-1, 1), (0, -1), (0, 1), (1, -1), (1, 0), (1, 1)]\n",
    "    return any(\n",
    "        0 <= row + dr < len(lista) and 0 <= col + dc < len(lista[0]) and\n",
    "        not lista[row + dr][col + dc].isdigit() and lista[row + dr][col + dc] != \".\"\n",
    "        for dr, dc in directions\n",
    "    )\n",
    "\n",
    "def find_valid_numbers(list_of_lists):\n",
    "    sum_of_partnumbers = 0\n",
    "    for idl, lst in enumerate(list_of_lists):\n",
    "        idc = 0\n",
    "        while idc < len(lst):\n",
    "            if lst[idc].isdigit():\n",
    "                number_end_index = idc\n",
    "                while number_end_index + 1 < len(lst) and lst[number_end_index + 1].isdigit():\n",
    "                    number_end_index += 1\n",
    "\n",
    "                number = lst[idc:number_end_index + 1]\n",
    "                if any(adjacent_to(list_of_lists, idl, idx) for idx in range(idc, number_end_index + 1)):\n",
    "                    sum_of_partnumbers += int(number)\n",
    "\n",
    "                idc = number_end_index + 1\n",
    "            else:\n",
    "                idc += 1\n",
    "    return sum_of_partnumbers"
   ]
  },
  {
   "cell_type": "code",
   "execution_count": 16,
   "id": "a546a57e",
   "metadata": {},
   "outputs": [
    {
     "data": {
      "text/plain": [
       "536202"
      ]
     },
     "execution_count": 16,
     "metadata": {},
     "output_type": "execute_result"
    }
   ],
   "source": [
    "file1 = open('engine.txt', 'r')\n",
    "Lines = file1.read().splitlines()\n",
    "find_valid_numbers(Lines) \n"
   ]
  },
  {
   "cell_type": "markdown",
   "id": "50604114",
   "metadata": {},
   "source": [
    "### Part 2\n",
    "The missing part wasn't the only issue - one of the gears in the engine is wrong. A gear is any `*` symbol that is adjacent to exactly two part numbers. Its gear ratio is the result of multiplying those two numbers together.\n",
    "\n",
    "This time, you need to find the gear ratio of every gear and add them all up so that the engineer can figure out which gear needs to be replaced.\n",
    "\n",
    "Consider the same engine schematic again:\n",
    "\n",
    "467..114.. \\\n",
    "......... \\\n",
    "..35..633. \\\n",
    "......#... \\\n",
    "617...... \\\n",
    ".....+.58. \\\n",
    "..592..... \\\n",
    "......755. \\\n",
    "...$.*.... \\\n",
    ".664.598.. \n",
    "\n",
    "In this schematic, there are two gears. The first is in the top left; it has part numbers 467 and 35, so its gear ratio is 16345. The second gear is in the lower right; its gear ratio is 451490. (The `*` adjacent to 617 is not a gear because it is only adjacent to one part number.) Adding up all of the gear ratios produces 467835.\n",
    "\n",
    "What is the sum of all of the gear ratios in your engine schematic?\n",
    "\n",
    "Your puzzle answer was 78272573.\n"
   ]
  }
 ],
 "metadata": {
  "kernelspec": {
   "display_name": "Python 3 (ipykernel)",
   "language": "python",
   "name": "python3"
  },
  "language_info": {
   "codemirror_mode": {
    "name": "ipython",
    "version": 3
   },
   "file_extension": ".py",
   "mimetype": "text/x-python",
   "name": "python",
   "nbconvert_exporter": "python",
   "pygments_lexer": "ipython3",
   "version": "3.10.5"
  }
 },
 "nbformat": 4,
 "nbformat_minor": 5
}
