{
 "cells": [
  {
   "cell_type": "markdown",
   "id": "9e2e6605",
   "metadata": {},
   "source": [
    "## Day 5: If You Give A Seed A Fertilizer\n",
    "### Part 1\n",
    "The almanac (your puzzle input) lists all of the seeds that need to be planted. It also lists what type of soil to use with each kind of seed, what type of fertilizer to use with each kind of soil, what type of water to use with each kind of fertilizer, and so on. Every type of seed, soil, fertilizer and so on is identified with a number, but numbers are reused by each category - that is, soil 123 and fertilizer 123 aren't necessarily related to each other.\n",
    "\n",
    "For example:\n",
    "\n",
    "- **Seeds**: 79 14 55 13\n",
    "\n",
    "**Seed-to-soil map**: \\\n",
    "50 98 2 \\\n",
    "52 50 48\n",
    "\n",
    "**Soil-to-fertilizer map**: \\\n",
    "0 15 37 \\\n",
    "37 52 2 \\\n",
    "39 0 15 \n",
    "\n",
    "**Fertilizer-to-water map**: \\\n",
    "49 53 8 \\\n",
    "0 11 42 \\\n",
    "42 0 7 \\\n",
    "57 7 4 \n",
    "\n",
    "**Water-to-light map**: \\\n",
    "88 18 7 \\\n",
    "18 25 70\n",
    "\n",
    "**light-to-temperature map:** \\\n",
    "45 77 23 \\\n",
    "81 45 19 \\\n",
    "68 64 13\n",
    "\n",
    "**temperature-to-humidity map:** \\\n",
    "0 69 1 \\\n",
    "1 0 69\n",
    "\n",
    "**humidity-to-location map:** \\\n",
    "60 56 37 \\\n",
    "56 93 4\n",
    "\n",
    "\n",
    "The almanac starts by listing which seeds need to be planted: seeds 79, 14, 55, and 13.\n",
    "\n",
    "The rest of the almanac contains a list of maps which describe how to convert numbers from a source category into numbers in a destination category. That is, the section that starts with `seed-to-soil map:` describes how to convert a seed number (the source) to a soil number (the destination). This lets the gardener and his team know which soil to use with which seeds, which water to use with which fertilizer, and so on.\n",
    "\n",
    "Rather than list every source number and its corresponding destination number one by one, the maps describe entire ranges of numbers that can be converted. Each line within a map contains three numbers: the destination range start, the source range start, and the range length.\n",
    "\n",
    "\n",
    "The first line means that seed number 98 corresponds to soil number 50 and that seed number 99 corresponds to soil number 51. The second line means that seed number 53 corresponds to soil number 55, and so on.\n",
    "\n",
    "Any source numbers that aren't mapped correspond to the same destination number. So, seed number 10 corresponds to soil number 10.\n",
    "\n",
    "So, the entire list of seed numbers and their corresponding soil numbers looks like this:\n",
    "\n",
    "| seed | soil |\n",
    "|------|------|\n",
    "| 0    | 0    |\n",
    "| 1    | 1    |\n",
    "| ...  | ...  |\n",
    "| 48   | 48   |\n",
    "| 49   | 49   |\n",
    "| 50   | 52   |\n",
    "| 51   | 53   |\n",
    "| ...  | ...  |\n",
    "| 96   | 98   |\n",
    "| 97   | 99   |\n",
    "| 98   | 50   |\n",
    "| 99   | 51   |\n",
    "\n",
    "With this map, you can look up the soil number required for each initial seed number:\n",
    "\n",
    "- Seed number 79 corresponds to soil number 81.\n",
    "- Seed number 14 corresponds to soil number 14.\n",
    "- Seed number 55 corresponds to soil number 57.\n",
    "- Seed number 13 corresponds to soil number 13.\n",
    "\n",
    "The gardener and his team want to get started as soon as possible, so they'd like to know the closest location that needs a seed. Using these maps, find the lowest location number that corresponds to any of the initial seeds. In this example, the corresponding types are:\n",
    "\n",
    "- Seed 79, soil 81, fertilizer 81, water 81, light 74, temperature 78, humidity 78, location 82.\n",
    "- Seed 14, soil 14, fertilizer 53, water 49, light 42, temperature 42, humidity 43, location 43.\n",
    "- Seed 55, soil 57, fertilizer 57, water 53, light 46, temperature 82, humidity 82, location 86.\n",
    "- Seed 13, soil 13, fertilizer 52, water 41, light 34, temperature 34, humidity 35, location 35.\n",
    "\n",
    "So, the lowest location number in this example is 35.\n",
    "\n",
    "What is the lowest location number that corresponds to any of the initial seed numbers?\n",
    "\n",
    "Your puzzle answer was 379811651.\n"
   ]
  },
  {
   "cell_type": "code",
   "execution_count": 1,
   "id": "835e29aa",
   "metadata": {},
   "outputs": [],
   "source": [
    "def find_destination_number(source_number, mapping):\n",
    "    for dest_start, src_start, length in mapping:\n",
    "        if src_start <= source_number < src_start + length:\n",
    "            return dest_start + (source_number - src_start)\n",
    "    return source_number\n"
   ]
  },
  {
   "cell_type": "code",
   "execution_count": 50,
   "id": "8c88cd84",
   "metadata": {},
   "outputs": [
    {
     "name": "stdout",
     "output_type": "stream",
     "text": [
      "{'seeds': '222541566 218404460 670428364 432472902 2728902838 12147727 3962570697 52031641 2849288350 113747257 3648852659 73423293 4036058422 190602154 1931540843 584314999 3344622241 180428346 1301166628 310966761', '': '4032879828 4294798436 168860 4033048688 927598400 261918608 0 101834652 315424112 3415479218 1417189709 517560635 3933039853 4175022329 99839975 2470365900 2513768139 498846371 2059440409 4274862304 19936132 2969212271 2295173893 218594246 315424112 417258764 36139086 351563198 0 101834652 927598400 1934750344 360423549 3187806517 1189517008 66595582 3254402099 1256112590 161077119 2079376541 3784032970 390989359 1288021949 3012614510 771418460'}\n"
     ]
    }
   ],
   "source": [
    "# Using context manager for file operations\n",
    "\n",
    "file= open(\"map.txt\")\n",
    "test_list = file.read().splitlines()\n",
    "res = [i for i, val in enumerate(test_list) if val == '']\n",
    "\n",
    "Dict = {}\n",
    "\n",
    "# Handle the first segment\n",
    "for r in range(len(res)):\n",
    "    if r==0:\n",
    "\n",
    "        Dict[test_list[0].split(':')[0]] = ' '.join(test_list[0:res[0]][1:])\n",
    "\n",
    "    # Handle the segments between empty strings\n",
    "    elif r==len(res)-1\n",
    "        Dict[test_list[r+1].split(':')[0]] = ' '.join(test_list[0:res[0]][1:])\n",
    "\n",
    "    else:\n",
    "        Dict[test_list[res[r+1]].split(':')[0]] = ' '.join(test_list[res[r+2]:res[r+1]][1:])\n",
    "# Handle the last segment if it doesn't end with an empty string\n",
    "\n",
    "print(Dict)\n"
   ]
  },
  {
   "cell_type": "code",
   "execution_count": 52,
   "id": "357cfcdb",
   "metadata": {},
   "outputs": [
    {
     "data": {
      "text/plain": [
       "'1627636687 2047220773 460084702'"
      ]
     },
     "execution_count": 52,
     "metadata": {},
     "output_type": "execute_result"
    }
   ],
   "source": [
    "r=214\n",
    "test_list[r+2]"
   ]
  }
 ],
 "metadata": {
  "kernelspec": {
   "display_name": "Python 3 (ipykernel)",
   "language": "python",
   "name": "python3"
  },
  "language_info": {
   "codemirror_mode": {
    "name": "ipython",
    "version": 3
   },
   "file_extension": ".py",
   "mimetype": "text/x-python",
   "name": "python",
   "nbconvert_exporter": "python",
   "pygments_lexer": "ipython3",
   "version": "3.10.5"
  }
 },
 "nbformat": 4,
 "nbformat_minor": 5
}
