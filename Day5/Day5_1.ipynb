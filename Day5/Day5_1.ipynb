{
 "cells": [
  {
   "cell_type": "code",
   "execution_count": 8,
   "id": "5daf014e",
   "metadata": {},
   "outputs": [
    {
     "name": "stdout",
     "output_type": "stream",
     "text": [
      "Best estimate: 1581166628 in seed range 1301166628 to 1612133389\n",
      "Step size: 10000000, best estimate: 1581166628 near loc 29110476\n",
      "Step size: 1000000 , best estimate: 1580166628 near loc 28110476\n",
      "Step size: 100000  , best estimate: 1580066628 near loc 28010476\n",
      "Step size: 10000   , best estimate: 1580056628 near loc 28000476\n",
      "Step size: 1000    , best estimate: 1580048628 near loc 27992476\n",
      "Step size: 100     , best estimate: 1580048628 near loc 27992476\n",
      "Step size: 10      , best estimate: 1580048598 near loc 27992446\n",
      "Step size: 1       , best estimate: 1580048595 near loc 27992443\n",
      "Part 2: 27992443\n"
     ]
    }
   ],
   "source": [
    "from math import log10, ceil\n",
    "\n",
    "\n",
    "with open('map.txt', encoding = 'utf-8') as f:\n",
    "    dat = [x.strip('\\n') for x in f.readlines()]\n",
    "\n",
    "def apply_maps(maps, seed):\n",
    "    pre_map = seed\n",
    "    for m in maps:\n",
    "        for ds, ss, rl in m:\n",
    "            if ss <= pre_map < ss + rl:\n",
    "                pre_map = ds + (pre_map - ss)\n",
    "                break\n",
    "    return pre_map\n",
    "\n",
    "def parse(seed_ranges = False):\n",
    "    seeds = [int(x) for x in dat[0].split(': ')[1].split(' ')]\n",
    "\n",
    "    if seed_ranges:\n",
    "        seeds = [(seeds[2 * i], seeds[2 * i + 1]) for i in range(len(seeds) // 2)]\n",
    "\n",
    "    maps = []\n",
    "    curr_map = []\n",
    "    for d in dat[3:]:\n",
    "        if d == '':\n",
    "            continue\n",
    "        if ':' in d:\n",
    "            maps += [curr_map]\n",
    "            curr_map = []\n",
    "        else:\n",
    "            curr_map += [tuple(int(x) for x in d.split(' '))]\n",
    "\n",
    "    maps += [curr_map]\n",
    "\n",
    "    return seeds, maps\n",
    "\n",
    "\n",
    "\n",
    "def part2(output = True):\n",
    "    seeds, maps = parse(seed_ranges = True)\n",
    "\n",
    "    step_size = int(pow(10, ceil(log10(max(s[1] for s in seeds) / 100))))\n",
    "    search_vals = {(ss, ss + sl, s): apply_maps(maps, s) for ss, sl in seeds for s in range(ss, ss + sl, step_size)}\n",
    "    rough_est = min(search_vals.items(), key = lambda x: x[1])\n",
    "\n",
    "    seed_range_start, seed_range_end, best_est = rough_est[0]\n",
    "\n",
    "    if output:\n",
    "        print(f'Best estimate: {best_est} in seed range {seed_range_start} to {seed_range_end}')\n",
    "        print(f'Step size: {step_size:<8d}, best estimate: {best_est:<10d} near loc {rough_est[1]}')\n",
    "\n",
    "    while step_size > 1:\n",
    "        left_search  = max(best_est - step_size, seed_range_start)\n",
    "        right_search = min(best_est + step_size, seed_range_end)\n",
    "\n",
    "        step_size = step_size // 10\n",
    "        search_vals = {s: apply_maps(maps, s) for s in range(left_search, right_search, step_size)}\n",
    "        best_est, best_loc = min(search_vals.items(), key = lambda x: x[1])\n",
    "\n",
    "        if output:\n",
    "            print(f'Step size: {step_size:<8d}, best estimate: {best_est:<10d} near loc {best_loc}')\n",
    "\n",
    "    return best_loc\n",
    "\n",
    "if __name__ == '__main__':\n",
    "    \n",
    "    print('Part 2:', part2(True))"
   ]
  },
  {
   "cell_type": "code",
   "execution_count": 20,
   "id": "913b34b9",
   "metadata": {},
   "outputs": [
    {
     "name": "stdout",
     "output_type": "stream",
     "text": [
      "Best estimate: 1581166628 in seed range 1301166628 to 1612133389\n",
      "Step size: 10000000, best estimate: 1581166628 near loc 29110476\n"
     ]
    }
   ],
   "source": [
    "seeds, maps = parse(seed_ranges = True)\n",
    "step_size = int(pow(10, ceil(log10(max(s[1] for s in seeds) / 100))))\n",
    "search_vals = {(ss, ss + sl, s): apply_maps(maps, s) for ss, sl in seeds for s in range(ss, ss + sl, step_size)}\n",
    "rough_est = min(search_vals.items(), key = lambda x: x[1])\n",
    "seed_range_start, seed_range_end, best_est = rough_est[0]\n",
    "output=True\n",
    "if output:\n",
    "    print(f'Best estimate: {best_est} in seed range {seed_range_start} to {seed_range_end}')\n",
    "    print(f'Step size: {step_size:<8d}, best estimate: {best_est:<10d} near loc {rough_est[1]}')\n"
   ]
  },
  {
   "cell_type": "code",
   "execution_count": 26,
   "id": "b82f3e81",
   "metadata": {},
   "outputs": [],
   "source": [
    "from math import log10, ceil\n",
    "\n",
    "def read_data(filename):\n",
    "    with open(filename, encoding='utf-8') as file:\n",
    "        return [line.strip() for line in file]\n",
    "\n",
    "def apply_maps(maps, seed):\n",
    "    for map_set in maps:\n",
    "        for destination, start, range_length in map_set:\n",
    "            if start <= seed < start + range_length:\n",
    "                return destination + (seed - start)\n",
    "    return seed\n",
    "\n",
    "def parse(data, seed_ranges=False):\n",
    "    seeds = [int(x) for x in data[0].split(': ')[1].split()]\n",
    "    maps = []\n",
    "\n",
    "    if seed_ranges:\n",
    "        seeds = [(seeds[i], seeds[i + 1]) for i in range(0, len(seeds), 2)]\n",
    "\n",
    "    current_map = []\n",
    "    for line in data[3:]:\n",
    "        if ':' in line and current_map:\n",
    "            maps.append(current_map)\n",
    "            current_map = []\n",
    "        elif line:\n",
    "            current_map.append(tuple(map(int, line.split())))\n",
    "\n",
    "    if current_map:\n",
    "        maps.append(current_map)\n",
    "\n",
    "    return seeds, maps\n",
    "\n",
    "def find_best_estimate(seeds, maps):\n",
    "    step_size = int(10 ** ceil(log10(max(end for _, end in seeds) / 100)))\n",
    "    best_estimate = float('inf')\n",
    "    best_range = (None, None)  # Initialize best_range\n",
    "\n",
    "    for start, end in seeds:\n",
    "        for seed in range(start, end, step_size):\n",
    "            estimate = apply_maps(maps, seed)\n",
    "            if estimate < best_estimate:\n",
    "                best_estimate, best_range = estimate, (start, end)\n",
    "\n",
    "    return best_estimate, best_range\n",
    "\n",
    "data = read_data('map.txt')\n",
    "seeds, maps = parse(data, seed_ranges=True)\n",
    "best_estimate, best_range = find_best_estimate(seeds, maps)"
   ]
  },
  {
   "cell_type": "code",
   "execution_count": 28,
   "id": "c04af92a",
   "metadata": {},
   "outputs": [
    {
     "data": {
      "text/plain": [
       "inf"
      ]
     },
     "execution_count": 28,
     "metadata": {},
     "output_type": "execute_result"
    }
   ],
   "source": [
    "\n",
    "    \n",
    " \n",
    "\n",
    "    \n",
    "max_seed_range = max(s[1] for s in seeds)\n",
    "step_size = int(10 ** ceil(log10(max_seed_range / 100)))\n",
    "\n",
    "\n",
    "search_vals = {(ss, ss + sl, s): apply_maps(maps, s) \n",
    "               for ss, sl in seeds \n",
    "               for s in range(ss, ss + sl, step_size)}\n",
    "rough_est = min(search_vals.items(), key=lambda x: x[1])\n",
    "seed_range_start, seed_range_end, best_est = rough_est[0]\n",
    "\n",
    "\n",
    "while step_size > 1:\n",
    "\n",
    "    left_search = max(best_est - step_size, seed_range_start)\n",
    "    right_search = min(best_est + step_size, seed_range_end)\n",
    "\n",
    "    # Decrease the step size for finer search\n",
    "    step_size //= 10\n",
    "\n",
    "    # Perform the search with the new step size\n",
    "    search_vals = {s: apply_maps(maps, s) \n",
    "                   for s in range(left_search, right_search, step_size)}\n",
    "    best_est, best_loc = min(search_vals.items(), key=lambda x: x[1])\n",
    "\n",
    "    \n"
   ]
  },
  {
   "cell_type": "code",
   "execution_count": 86,
   "id": "0ccbc80f",
   "metadata": {},
   "outputs": [
    {
     "data": {
      "text/plain": [
       "{'Time': [47, 70, 75, 66], 'Distance': [282, 1079, 1147, 1062]}"
      ]
     },
     "execution_count": 86,
     "metadata": {},
     "output_type": "execute_result"
    }
   ],
   "source": [
    "import re\n",
    "File=open('race.txt', encoding = 'utf-8')\n",
    "dat=File.read().splitlines()\n",
    "race={}\n",
    "for i in range(len(dat)):\n",
    "    o=dat[i].split(': ')[0]\n",
    "    race[o]=re.findall('\\d+',dat[i].split(': ')[1])\n",
    "    race[o]=[int(y) for y in race[o]]\n",
    "race"
   ]
  },
  {
   "cell_type": "code",
   "execution_count": 63,
   "id": "41a7086e",
   "metadata": {},
   "outputs": [
    {
     "name": "stdout",
     "output_type": "stream",
     "text": [
      "32\n",
      "25\n",
      "32\n",
      "11\n"
     ]
    },
    {
     "data": {
      "text/plain": [
       "{'Time': [47, 70, 75, 66],\n",
       " 'Distance': [282, 1079, 1147, 1062],\n",
       " 'Beat': [32, 25, 32, 11]}"
      ]
     },
     "execution_count": 63,
     "metadata": {},
     "output_type": "execute_result"
    }
   ],
   "source": [
    "#[m for m in range(1,race['Time'][0]) if m*m<race['Distance'][0]]\n",
    "import math\n",
    "beat=[]\n",
    "for b in range(len(race['Time'])):\n",
    "    t_h=[]\n",
    "    for m in range(1,race['Time'][b]):\n",
    "\n",
    "        time_total=race['Time'][b]\n",
    "        time_hold=m\n",
    "        time_v=time_total-m\n",
    "        dist=m*time_v\n",
    "        if dist>race['Distance'][b]:\n",
    "            t_h.append(m)\n",
    "    print(len(t_h))\n",
    "    beat.append(len(t_h))\n",
    "race['Beat']=beat  \n",
    "math.prod(beat)"
   ]
  },
  {
   "cell_type": "code",
   "execution_count": 78,
   "id": "d0dc8aa1",
   "metadata": {},
   "outputs": [
    {
     "data": {
      "text/plain": [
       "{'Time': 47707566, 'Distance': 282107911471062}"
      ]
     },
     "execution_count": 78,
     "metadata": {},
     "output_type": "execute_result"
    }
   ],
   "source": [
    "import re\n",
    "File=open('race.txt', encoding = 'utf-8')\n",
    "x=File.readlines()\n",
    "dat = [y.strip('\\n') for y in x]\n",
    "o=dat[i].split(': ')\n",
    "race={}\n",
    "for i in range(len(dat)):\n",
    "    o=dat[i].split(': ')\n",
    "    race[o[0]]=int(''.join(re.findall('\\d+',o[1])))\n",
    "race"
   ]
  },
  {
   "cell_type": "code",
   "execution_count": 84,
   "id": "2f1c08fd",
   "metadata": {},
   "outputs": [
    {
     "data": {
      "text/plain": [
       "47707566"
      ]
     },
     "execution_count": 84,
     "metadata": {},
     "output_type": "execute_result"
    }
   ],
   "source": [
    "race['Time']"
   ]
  },
  {
   "cell_type": "code",
   "execution_count": 85,
   "id": "de340a3e",
   "metadata": {},
   "outputs": [
    {
     "name": "stdout",
     "output_type": "stream",
     "text": [
      "33875953\n"
     ]
    }
   ],
   "source": [
    "t_h=[]\n",
    "b=0\n",
    "for m in range(1,race['Time']):\n",
    "\n",
    "    time_total=race['Time']\n",
    "    time_hold=m\n",
    "    time_v=time_total-m\n",
    "    dist=m*time_v\n",
    "    if dist>race['Distance']:\n",
    "        t_h.append(m)\n",
    "print(len(t_h))"
   ]
  }
 ],
 "metadata": {
  "kernelspec": {
   "display_name": "Python 3 (ipykernel)",
   "language": "python",
   "name": "python3"
  },
  "language_info": {
   "codemirror_mode": {
    "name": "ipython",
    "version": 3
   },
   "file_extension": ".py",
   "mimetype": "text/x-python",
   "name": "python",
   "nbconvert_exporter": "python",
   "pygments_lexer": "ipython3",
   "version": "3.10.5"
  }
 },
 "nbformat": 4,
 "nbformat_minor": 5
}
