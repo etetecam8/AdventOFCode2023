{
 "cells": [
  {
   "cell_type": "markdown",
   "id": "42c15ffe",
   "metadata": {},
   "source": [
    "## Day 12: Hot Springs \n",
    "### Part 1\n",
    "\n",
    "In the giant field just outside, the springs are arranged into rows. For each row, the condition records show every spring and whether it is operational (`.`) or damaged (`#`). This is the part of the condition records that is itself damaged; for some springs, it is simply unknown (`?`) whether the spring is operational or damaged.\n",
    "\n",
    "However, the engineer that produced the condition records also duplicated some of this information in a different format! After the list of springs for a given row, the size of each contiguous group of damaged springs is listed in the order those groups appear in the row. This list always accounts for every damaged spring, and each number is the entire size of its contiguous group (that is, groups are always separated by at least one operational spring: `####` would always be `4`, never `2,2`).\n",
    "\n",
    "So, condition records with no unknown spring conditions might look like this:\n",
    "\n",
    "```\n",
    "#.#.### 1,1,3\n",
    ".#...#....###. 1,1,3\n",
    ".#.###.#.###### 1,3,1,6\n",
    "####.#...#... 4,1,1\n",
    "#....######..#####. 1,6,5\n",
    ".###.##....# 3,2,1\n",
    "\n",
    "```\n",
    "\n",
    "However, the condition records are partially damaged; some of the springs' conditions are actually unknown (`?`). For example:\n",
    "\n",
    "```\n",
    "???.### 1,1,3\n",
    ".??..??...?##. 1,1,3\n",
    "?#?#?#?#?#?#?#? 1,3,1,6\n",
    "????.#...#... 4,1,1\n",
    "????.######..#####. 1,6,5\n",
    "?###???????? 3,2,1\n",
    "\n",
    "```\n",
    "\n",
    "Equipped with this information, it is your job to figure out how many different arrangements of operational and broken springs fit the given criteria in each row.\n",
    "\n",
    "In the first line (`???.### 1,1,3`), there is exactly one way separate groups of one, one, and three broken springs (in that order) can appear in that row: the first three unknown springs must be broken, then operational, then broken (`#.#`), making the whole row `#.#.###`.\n",
    "\n",
    "The second line is more interesting: `.??..??...?##. 1,1,3` could be a total of four different arrangements. The last `?` must always be broken (to satisfy the final contiguous group of three broken springs), and each `??` must hide exactly one of the two broken springs. (Neither `??` could be both broken springs or they would form a single contiguous group of two; if that were true, the numbers afterward would have been `2,3` instead.) Since each `??` can either be `#.` or `.#`, there are four possible arrangements of springs.\n",
    "\n",
    "The last line is actually consistent with ten different arrangements! Because the first number is `3`, the first and second `?` must both be `.` (if either were `#`, the first number would have to be `4` or higher). However, the remaining run of unknown spring conditions have many different ways they could hold groups of two and one broken springs:\n",
    "\n",
    "```\n",
    "?###???????? 3,2,1\n",
    ".###.##.#...\n",
    ".###.##..#..\n",
    ".###.##...#.\n",
    ".###.##....#\n",
    ".###..##.#..\n",
    ".###..##..#.\n",
    ".###..##...#\n",
    ".###...##.#.\n",
    ".###...##..#\n",
    ".###....##.#\n",
    "\n",
    "```\n",
    "\n",
    "In this example, the number of possible arrangements for each row is:\n",
    "\n",
    "-   `???.### 1,1,3` - `1` arrangement\n",
    "-   `.??..??...?##. 1,1,3` - `4` arrangements\n",
    "-   `?#?#?#?#?#?#?#? 1,3,1,6` - `1` arrangement\n",
    "-   `????.#...#... 4,1,1` - `1` arrangement\n",
    "-   `????.######..#####. 1,6,5` - `4` arrangements\n",
    "-   `?###???????? 3,2,1` - `10` arrangements\n",
    "\n",
    "Adding all of the possible arrangement counts together produces a total of `21` arrangements.\n",
    "\n",
    "For each row, count all of the different arrangements of operational and broken springs that meet the given criteria. What is the sum of those counts?\n",
    "\n",
    "Your puzzle answer was 7490."
   ]
  },
  {
   "cell_type": "code",
   "execution_count": 40,
   "id": "93240fb0",
   "metadata": {},
   "outputs": [],
   "source": [
    "from functools import cache\n",
    "file=open('arrange.txt')\n",
    "data=file.read().splitlines()\n",
    "a=[]\n",
    "for i in data:\n",
    "    m,w=i.strip().split(\" \")\n",
    "    a.append((m,tuple(map(int, w.split(\",\"))))) "
   ]
  },
  {
   "cell_type": "code",
   "execution_count": 39,
   "id": "624f8126",
   "metadata": {},
   "outputs": [
    {
     "data": {
      "text/plain": [
       "7490"
      ]
     },
     "execution_count": 39,
     "metadata": {},
     "output_type": "execute_result"
    }
   ],
   "source": [
    "def total_combinations(springs, groups):\n",
    "    @cache\n",
    "    def combinations(i, j, r):\n",
    "        if j == len(groups):\n",
    "            return springs.count(\"#\", i) == 0\n",
    "        if i == len(springs):\n",
    "            return j == len(groups) - 1 and r == groups[j]\n",
    "\n",
    "        n = 0\n",
    "        if springs[i] != \".\":\n",
    "            n += combinations(i + 1, j, r + 1)\n",
    "        if springs[i] != \"#\":\n",
    "            if r == groups[j]:\n",
    "                n += combinations(i + 1, j + 1, 0)\n",
    "            elif r == 0:\n",
    "                n += combinations(i + 1, j, 0)\n",
    "        return n\n",
    "\n",
    "    return combinations(0, 0, 0)\n",
    "\n",
    "sum(total_combinations(springs, groups) for springs, groups in a)"
   ]
  },
  {
   "cell_type": "markdown",
   "id": "1749d103",
   "metadata": {},
   "source": [
    "### Part 2\n",
    "To unfold the records, on each row, replace the list of spring conditions with five copies of itself (separated by `?`) and replace the list of contiguous groups of damaged springs with five copies of itself (separated by `,`).\n",
    "\n",
    "So, this row:\n",
    "\n",
    "```\n",
    ".# 1\n",
    "```\n",
    "\n",
    "Would become:\n",
    "\n",
    "```\n",
    ".#?.#?.#?.#?.# 1,1,1,1,1\n",
    "```\n",
    "\n",
    "The first line of the above example would become:\n",
    "\n",
    "```\n",
    "???.###????.###????.###????.###????.### 1,1,3,1,1,3,1,1,3,1,1,3,1,1,3\n",
    "```\n",
    "\n",
    "In the above example, after unfolding, the number of possible arrangements for some rows is now much larger:\n",
    "\n",
    "-   `???.### 1,1,3` - `1` arrangement\n",
    "-   `.??..??...?##. 1,1,3` - `16384` arrangements\n",
    "-   `?#?#?#?#?#?#?#? 1,3,1,6` - `1` arrangement\n",
    "-   `????.#...#... 4,1,1` - `16` arrangements\n",
    "-   `????.######..#####. 1,6,5` - `2500` arrangements\n",
    "-   `?###???????? 3,2,1` - `506250` arrangements\n",
    "\n",
    "After unfolding, adding all of the possible arrangement counts together produces `525152`.\n",
    "\n",
    "Unfold your condition records; what is the new sum of possible arrangement counts?\n",
    "\n",
    "Your puzzle answer was 65607131946466."
   ]
  },
  {
   "cell_type": "code",
   "execution_count": 41,
   "id": "35d90f78",
   "metadata": {},
   "outputs": [
    {
     "data": {
      "text/plain": [
       "65607131946466"
      ]
     },
     "execution_count": 41,
     "metadata": {},
     "output_type": "execute_result"
    }
   ],
   "source": [
    "sum(total_combinations(\"?\".join([springs] * 5), groups * 5) for springs, groups in a)"
   ]
  }
 ],
 "metadata": {
  "kernelspec": {
   "display_name": "Python 3 (ipykernel)",
   "language": "python",
   "name": "python3"
  },
  "language_info": {
   "codemirror_mode": {
    "name": "ipython",
    "version": 3
   },
   "file_extension": ".py",
   "mimetype": "text/x-python",
   "name": "python",
   "nbconvert_exporter": "python",
   "pygments_lexer": "ipython3",
   "version": "3.10.5"
  }
 },
 "nbformat": 4,
 "nbformat_minor": 5
}
