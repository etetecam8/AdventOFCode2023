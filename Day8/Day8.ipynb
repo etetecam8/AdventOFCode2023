{
 "cells": [
  {
   "cell_type": "markdown",
   "id": "dd13d082",
   "metadata": {},
   "source": [
    "## Day 8: Haunted Wasteland\n",
    "### Part 1\n",
    "The network. Perhaps if you have the camel follow the same instructions, you can escape the haunted wasteland!\n",
    "\n",
    "After examining the maps for a bit, two nodes stick out: `AAA` and `ZZZ`. You feel like `AAA` is where you are now, and you have to follow the left/right instructions until you reach `ZZZ`.\n",
    "\n",
    "This format defines each node of the network individually. For example:\n",
    "\n",
    "**Instructions:** `RL`\n",
    "\n",
    "AAA = (BBB, CCC) \\\n",
    "BBB = (DDD, EEE) \\\n",
    "CCC = (ZZZ, GGG) \\\n",
    "DDD = (DDD, DDD) \\\n",
    "EEE = (EEE, EEE) \\\n",
    "GGG = (GGG, GGG) \\\n",
    "ZZZ = (ZZZ, ZZZ)\n",
    "\n",
    "\n",
    "Starting with `AAA`, you need to look up the next element based on the next left/right instruction in your input. In this example, start with `AAA` and go right (R) by choosing the right element of `AAA`, `CCC`. Then, L means to choose the left element of `CCC`, `ZZZ`. By following the left/right instructions, you reach `ZZZ` in 2 steps.\n",
    "\n",
    "Of course, you might not find `ZZZ` right away. If you run out of left/right instructions, repeat the whole sequence of instructions as necessary: `RL` really means `RLRLRLRLRLRLRLRL...` and so on. For example, here is a situation that takes 6 steps to reach `ZZZ`:\n",
    "\n",
    "**Instructions:** `LLR`\n",
    "\n",
    "AAA = (BBB, BBB) \\\n",
    "BBB = (AAA, ZZZ) \\\n",
    "ZZZ = (ZZZ, ZZZ)\n",
    "\n",
    "\n",
    "Starting at `AAA`, follow the left/right instructions. How many steps are required to reach `ZZZ`?\n",
    "\n",
    "Your puzzle answer was 13207."
   ]
  },
  {
   "cell_type": "code",
   "execution_count": 111,
   "id": "1b0143d2",
   "metadata": {},
   "outputs": [],
   "source": [
    "from itertools import cycle\n",
    "import math\n",
    "File=open('direction.txt')\n",
    "dat=File.read().splitlines()\n",
    "instructions = [1 if char == 'R' else 0 for char in dat[0]]\n"
   ]
  },
  {
   "cell_type": "code",
   "execution_count": 112,
   "id": "001fd579",
   "metadata": {},
   "outputs": [
    {
     "data": {
      "text/plain": [
       "13207"
      ]
     },
     "execution_count": 112,
     "metadata": {},
     "output_type": "execute_result"
    }
   ],
   "source": [
    "direct={}\n",
    "for s in dat[2:]:\n",
    "    key, value = [x.strip() for x in s.split('=')]\n",
    "    value = value.strip('()').split(', ')\n",
    "    direct[key] = value\n",
    "key='AAA'\n",
    "cnt=0\n",
    "for i in cycle(instructions):\n",
    "        key=direct[key][i]\n",
    "        cnt += 1\n",
    "        if key=='ZZZ':\n",
    "            break\n",
    "        \n",
    "cnt"
   ]
  },
  {
   "cell_type": "markdown",
   "id": "d04e027b",
   "metadata": {},
   "source": [
    "After examining the maps a bit longer, your attention is drawn to a curious fact: the number of nodes with names ending in A is equal to the number ending in Z! If you were a ghost, you'd probably just start at every node that ends with A and follow all of the paths at the same time until they all simultaneously end up at nodes that end with Z.\n",
    "\n",
    "For example:\n",
    "\n",
    "**Instructions:** `LR`\n",
    "\n",
    "11A = (11B, XXX) \\\n",
    "11B = (XXX, 11Z) \\\n",
    "11Z = (11B, XXX) \\\n",
    "22A = (22B, XXX) \\\n",
    "22B = (22C, 22C) \\\n",
    "22C = (22Z, 22Z) \\\n",
    "22Z = (22B, 22B) \\\n",
    "XXX = (XXX, XXX)\n",
    "\n",
    "\n",
    "Here, there are two starting nodes, `11A` and `22A` (because they both end with A). As you follow each left/right instruction, use that instruction to simultaneously navigate away from both nodes you're currently on. Repeat this process until all of the nodes you're currently on end with Z. (If only some of the nodes you're on end with Z, they act like any other node and you continue as normal.) In this example, you would proceed as follows:\n",
    "\n",
    "- **Step 0:** You are at 11A and 22A.\n",
    "- **Step 1:** You choose all of the left paths, leading you to 11B and 22B.\n",
    "- **Step 2:** You choose all of the right paths, leading you to 11Z and 22C.\n",
    "- **Step 3:** You choose all of the left paths, leading you to 11B and 22Z.\n",
    "- **Step 4:** You choose all of the right paths, leading you to 11Z and 22B.\n",
    "- **Step 5:** You choose all of the left paths, leading you to 11B and 22C.\n",
    "- **Step 6:** You choose all of the right paths, leading you to 11Z and 22Z.\n",
    "\n",
    "So, in this example, you end up entirely on nodes that end in Z after 6 steps.\n",
    "\n",
    "Simultaneously start on every node that ends with A. How many steps does it take before you're only on nodes that end with Z?\n",
    "\n",
    "Your puzzle answer was 12324145107121."
   ]
  },
  {
   "cell_type": "code",
   "execution_count": 129,
   "id": "32e48551",
   "metadata": {},
   "outputs": [
    {
     "data": {
      "text/plain": [
       "12324145107121"
      ]
     },
     "execution_count": 129,
     "metadata": {},
     "output_type": "execute_result"
    }
   ],
   "source": [
    "instructions = dat[0]\n",
    "start = [n for n in direct if n[2] == 'A']\n",
    "nodos = start.copy()\n",
    "\n",
    "ciclo1 = [0] * len(start)\n",
    "ciclo2 = [0] * len(start)\n",
    "for t in cycle(instructions):\n",
    "    for i, key in enumerate(nodos):\n",
    "        if key[2] == 'Z':\n",
    "            if ciclo2[i] == 0:\n",
    "                ciclo2[i] = ciclo1[i]\n",
    "                ciclo1[i] = 0\n",
    "            else:\n",
    "                continue\n",
    "        nodos[i] = direct[key][0 if t == 'L' else 1]\n",
    "        ciclo1[i] += 1\n",
    "    if all(n[2] == 'Z' for n in nodos):\n",
    "        break\n",
    "\n",
    "\n",
    "\n",
    "\n",
    "lcm(*ciclo1)"
   ]
  }
 ],
 "metadata": {
  "kernelspec": {
   "display_name": "Python 3 (ipykernel)",
   "language": "python",
   "name": "python3"
  },
  "language_info": {
   "codemirror_mode": {
    "name": "ipython",
    "version": 3
   },
   "file_extension": ".py",
   "mimetype": "text/x-python",
   "name": "python",
   "nbconvert_exporter": "python",
   "pygments_lexer": "ipython3",
   "version": "3.10.5"
  }
 },
 "nbformat": 4,
 "nbformat_minor": 5
}
