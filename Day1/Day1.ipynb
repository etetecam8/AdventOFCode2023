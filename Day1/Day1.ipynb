{
 "cells": [
  {
   "cell_type": "markdown",
   "id": "dafbb040",
   "metadata": {},
   "source": [
    "## Day 1: Trebuchet?!\n",
    "### Part 1\n",
    "The newly-improved calibration document consists of lines of text; each line originally contained a specific calibration value that the Elves now need to recover. On each line, the calibration value can be found by combining the first digit and the last digit (in that order) to form a single two-digit number.\n",
    "\n",
    "For example:\n",
    "\n",
    "- `1abc2` -> 12\n",
    "- `pqr3stu8vwx` -> 38\n",
    "- `a1b2c3d4e5f` -> 15\n",
    "- `treb7uchet` -> 77\n",
    "\n",
    "In this example, the calibration values of these four lines are 12, 38, 15, and 77. Adding these together produces 142.\n",
    "\n",
    "Consider your entire calibration document. What is the sum of all of the calibration values?\n",
    "\n",
    "Your puzzle answer was 54877."
   ]
  },
  {
   "cell_type": "code",
   "execution_count": 4,
   "id": "d8d21fde",
   "metadata": {},
   "outputs": [
    {
     "data": {
      "text/plain": [
       "54877"
      ]
     },
     "execution_count": 4,
     "metadata": {},
     "output_type": "execute_result"
    }
   ],
   "source": [
    "import re\n",
    "file1 = open('calibration.txt', 'r')\n",
    "Lines = file1.read().splitlines()\n",
    "res=[int(re.findall(r'\\d+', L)[0][0]+re.findall(r'\\d+', L)[-1][-1]) for L in Lines]\n",
    "sum(res)"
   ]
  },
  {
   "cell_type": "markdown",
   "id": "e6dc3d6e",
   "metadata": {},
   "source": [
    "### Part 2\n",
    "Your calculation isn't quite right. It looks like some of the digits are actually spelled out with letters: `one`, `two`, `three`, `four`, `five`, `six`, `seven`, `eight`, and `nine` also count as valid \"digits\".\n",
    "\n",
    "Equipped with this new information, you now need to find the real first and last digit on each line. For example:\n",
    "\n",
    "- `two1nine` → Calibration value: `29`\n",
    "- `eightwothree` → Calibration value: `83`\n",
    "- `abcone2threexyz` → Calibration value: `13`\n",
    "- `xtwone3four` → Calibration value: `24`\n",
    "- `4nineeightseven2` → Calibration value: `42`\n",
    "- `zoneight234` → Calibration value: `14`\n",
    "- `7pqrstsixteen` → Calibration value: `76`\n",
    "\n",
    "In this example, the calibration values are `29`, `83`, `13`, `24`, `42`, `14`, and `76`. Adding these together produces `281`.\n",
    "\n",
    "What is the sum of all of the calibration values?\n",
    "\n",
    "Your puzzle answer was `54100`.\n",
    "\n",
    "\n",
    "There exist values as \"2ninehnsnnvj21fkeightwodmz\" which it is hard to know if it is 82 or 8 or 2.\\\n",
    " regex=r\"(?=(one|two|three|four|five|six|seven|eight|nine|\\d+))\" separates in groups of number independent of each other"
   ]
  },
  {
   "cell_type": "code",
   "execution_count": 6,
   "id": "9b537c4d",
   "metadata": {},
   "outputs": [
    {
     "data": {
      "text/plain": [
       "54100"
      ]
     },
     "execution_count": 6,
     "metadata": {},
     "output_type": "execute_result"
    }
   ],
   "source": [
    "file1 = open('calibration.txt', 'r')\n",
    "Lines = file1.read().splitlines()\n",
    "con_dict = {\n",
    "    'one': '1',\n",
    "    'two': '2',\n",
    "    'three': '3',\n",
    "    'four': '4',\n",
    "    'five': '5',\n",
    "    'six': '6',\n",
    "    'seven': '7',\n",
    "    'eight': '8',\n",
    "    'nine': '9',\n",
    "    'zero': '0',\n",
    "    \n",
    "}\n",
    "def replace_all(text, dic):\n",
    "    for i, j in dic.items():\n",
    "        text = text.replace(i, j)\n",
    "        \n",
    "    return text\n",
    "re_obj=re.compile(r\"(?=(one|two|three|four|five|six|seven|eight|nine|\\d+))\")\n",
    "res1=[''.join(re_obj.findall(e)) for e in Lines]\n",
    "res2=[replace_all(L, con_dict) for L in res1]\n",
    "res3=[int(re.findall(r'\\d+', u)[0][0]+re.findall(r'\\d+', u)[-1][-1]) for u in res2]\n",
    "sum(res3)"
   ]
  }
 ],
 "metadata": {
  "kernelspec": {
   "display_name": "Python 3 (ipykernel)",
   "language": "python",
   "name": "python3"
  },
  "language_info": {
   "codemirror_mode": {
    "name": "ipython",
    "version": 3
   },
   "file_extension": ".py",
   "mimetype": "text/x-python",
   "name": "python",
   "nbconvert_exporter": "python",
   "pygments_lexer": "ipython3",
   "version": "3.10.5"
  }
 },
 "nbformat": 4,
 "nbformat_minor": 5
}
