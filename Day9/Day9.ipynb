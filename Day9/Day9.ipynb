{
 "cells": [
  {
   "cell_type": "markdown",
   "id": "f24fbce0",
   "metadata": {},
   "source": [
    "## Day 9: Mirage Maintenance\n",
    "### Part 1\n",
    "You pull out your handy **Oasis And Sand Instability Sensor** and analyze your surroundings. The OASIS produces a report of many values and how they are changing over time (your puzzle input). Each line in the report contains the history of a single value. For example:\n",
    "\n",
    "0 3 6 9 12 15 \\\n",
    "1 3 6 10 15 21 \\\n",
    "10 13 16 21 30 45\n",
    "\n",
    "\n",
    "To best protect the oasis, your environmental report should include a prediction of the next value in each history. To do this, start by making a new sequence from the difference at each step of your history. If that sequence is not all zeroes, repeat this process, using the sequence you just generated as the input sequence. Once all of the values in your latest sequence are zeroes, you can extrapolate what the next value of the original history should be.\n",
    "\n",
    "In the above dataset, the first history is `0 3 6 9 12 15`. Because the values increase by 3 each step, the first sequence of differences that you generate will be `3 3 3 3 3`. Note that this sequence has one fewer value than the input sequence because at each step it considers two numbers from the input. Since these values aren't all zero, repeat the process: the values differ by 0 at each step, so the next sequence is `0 0 0 0`. This means you have enough information to extrapolate the history! Visually, these sequences can be arranged like this:\n",
    "\n",
    "0 3 6 9 12 15 \\\n",
    "3 3 3 3 3 \\\n",
    "0 0 0 0 \n",
    "\n",
    "\n",
    "To extrapolate, start by adding a new zero to the end of your list of zeroes; because the zeroes represent differences between the two values above them, this also means there is now a placeholder in every sequence above it:\n",
    "\n",
    "0 3 6 9 12 15 B \\\n",
    "3 3 3 3 3 A \\\n",
    "0 0 0 0 0 \n",
    "\n",
    "\n",
    "You can then start filling in placeholders from the bottom up. A needs to be the result of increasing 3 (the value to its left) by 0 (the value below it); this means A must be 3:\n",
    "\n",
    "0 3 6 9 12 15 B \\\n",
    "3 3 3 3 3 3 \\\n",
    "0 0 0 0 0 \n",
    "\n",
    "\n",
    "Finally, you can fill in B, which needs to be the result of increasing 15 (the value to its left) by 3 (the value below it), or 18:\n",
    "\n",
    "0 3 6 9 12 15 18 \\\n",
    "3 3 3 3 3 3 \\\n",
    "0 0 0 0 0\n",
    "\n",
    "\n",
    "So, the next value of the first history is 18.\n",
    "\n",
    "Finding all-zero differences for the second history requires an additional sequence:\n",
    "\n",
    "1 3 6 10 15 21 \\\n",
    "2 3 4 5 6 \\\n",
    "1 1 1 1 \\\n",
    "0 0 0\n",
    "\n",
    "\n",
    "Then, following the same process as before, work out the next value in each sequence from the bottom up:\n",
    "\n",
    "1 3 6 10 15 21 28 \\\n",
    "2 3 4 5 6 7 \\\n",
    "1 1 1 1 1 \\\n",
    "0 0 0 0 \n",
    "\n",
    "\n",
    "So, the next value of the second history is 28.\n",
    "\n",
    "The third history requires even more sequences, but its next value can be found the same way:\n",
    "\n",
    "10 13 16 21 30 45 68 \\\n",
    "3 3 5 9 15 23 \\\n",
    "0 2 4 6 8 \\\n",
    "2 2 2 2 \\\n",
    "0 0 0\n",
    "\n",
    "\n",
    "So, the next value of the third history is 68.\n",
    "\n",
    "If you find the next value for each history in this example and add them together, you get 114.\n",
    "\n",
    "Analyze your OASIS report and extrapolate the next value for each history. What is the sum of these extrapolated values?\n",
    "\n",
    "Your puzzle answer was 1789635132\n"
   ]
  },
  {
   "cell_type": "code",
   "execution_count": 74,
   "id": "09962ae6",
   "metadata": {},
   "outputs": [],
   "source": [
    "from itertools import pairwise\n",
    "File=open('Oasis.txt')\n",
    "datos=File.read().splitlines()\n",
    "datos=[[int(x) for x in d.split(' ')] for d in datos]\n"
   ]
  },
  {
   "cell_type": "code",
   "execution_count": 75,
   "id": "0c6c88ce",
   "metadata": {},
   "outputs": [
    {
     "data": {
      "text/plain": [
       "1789635132"
      ]
     },
     "execution_count": 75,
     "metadata": {},
     "output_type": "execute_result"
    }
   ],
   "source": [
    "def calculate_series_sum(data):\n",
    "    suma = 0\n",
    "    while len(data) > 1:\n",
    "        suma += data[-1]\n",
    "        data = [data[i+1] - data[i] for i in range(len(data) - 1)]\n",
    "    \n",
    "    return suma + data[0]\n",
    "\n",
    "# Example usage  # Replace this with your data\n",
    "total_sum = sum(calculate_series_sum(d) for d in datos)\n",
    "total_sum"
   ]
  },
  {
   "cell_type": "markdown",
   "id": "b3996c52",
   "metadata": {},
   "source": [
    "### Part 2\n",
    "For each history, repeat the process of finding differences until the sequence of differences is entirely zero. Then, rather than adding a zero to the end and filling in the next values of each previous sequence, you should instead add a zero to the beginning of your sequence of zeroes, then fill in new first values for each previous sequence.\n",
    "\n",
    "In particular, here is what the third example history looks like when extrapolating back in time:\n",
    "\n",
    "5 10 13 16 21 30 45 \\\n",
    "5 3 3 5 9 15 \\\n",
    "-2 0 2 4 6 \\\n",
    "2 2 2 2 \\\n",
    "0 0 0 \n",
    "\n",
    "\n",
    "Adding the new values on the left side of each sequence from bottom to top eventually reveals the new left-most history value: `5`.\n",
    "\n",
    "Doing this for the remaining example data above results in previous values of `-3` for the first history and `0` for the second history. Adding all three new values together produces `2`.\n",
    "\n",
    "Analyze your OASIS report again, this time extrapolating the previous value for each history. What is the sum of these extrapolated values?\n",
    "\n",
    "Your puzzle answer was 913"
   ]
  },
  {
   "cell_type": "code",
   "execution_count": 76,
   "id": "0b2c4d29",
   "metadata": {},
   "outputs": [
    {
     "data": {
      "text/plain": [
       "913"
      ]
     },
     "execution_count": 76,
     "metadata": {},
     "output_type": "execute_result"
    }
   ],
   "source": [
    "def calculate_series_sub(data):\n",
    "    step_list = [data]\n",
    "\n",
    "    while any(step_list[-1]):\n",
    "        step_list.append([y - x for x, y in zip(step_list[-1], step_list[-1][1:])])\n",
    "\n",
    "    result = 0\n",
    "    for step in reversed(step_list):\n",
    "        result = step[0] - result\n",
    "\n",
    "    return result\n",
    "\n",
    "total_sum = sum(calculate_series_sub(d) for d in datos)\n",
    "total_sum"
   ]
  }
 ],
 "metadata": {
  "kernelspec": {
   "display_name": "Python 3 (ipykernel)",
   "language": "python",
   "name": "python3"
  },
  "language_info": {
   "codemirror_mode": {
    "name": "ipython",
    "version": 3
   },
   "file_extension": ".py",
   "mimetype": "text/x-python",
   "name": "python",
   "nbconvert_exporter": "python",
   "pygments_lexer": "ipython3",
   "version": "3.10.5"
  }
 },
 "nbformat": 4,
 "nbformat_minor": 5
}
