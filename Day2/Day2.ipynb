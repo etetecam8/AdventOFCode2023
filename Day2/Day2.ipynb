{
 "cells": [
  {
   "cell_type": "markdown",
   "id": "e9eaf427",
   "metadata": {},
   "source": [
    "## Day 2: Cube Conundrum\n",
    "### Part 1\n",
    "You play several games and record the information from each game (your puzzle input). Each game is listed with its ID number (like the `11` in `Game 11:` ...) followed by a semicolon-separated list of subsets of cubes that were revealed from the bag (like `3 red`, `5 green`, `4 blue`).\n",
    "\n",
    "For example, the record of a few games might look like this:\n",
    "\n",
    "- **Game 1:** `3 blue`, `4 red`; `1 red`, `2 green`, `6 blue`; `2 green`\n",
    "- **Game 2:** `1 blue`, `2 green`; `3 green`, `4 blue`, `1 red`; `1 green`, `1 blue`\n",
    "- **Game 3:** `8 green`, `6 blue`, `20 red`; `5 blue`, `4 red`, `13 green`; `5 green`, `1 red`\n",
    "- **Game 4:** `1 green`, `3 red`, `6 blue`; `3 green`, `6 red`; `3 green`, `15 blue`, `14 red`\n",
    "- **Game 5:** `6 red`, `1 blue`, `3 green`; `2 blue`, `1 red`, `2 green`\n",
    "\n",
    "In game 1, three sets of cubes are revealed from the bag (and then put back again). The first set is `3 blue cubes` and `4 red cubes`; the second set is `1 red cube`, `2 green cubes`, and `6 blue cubes`; the third set is only `2 green cubes`.\n",
    "\n",
    "The Elf would first like to know which games would have been possible if the bag contained only `12 red cubes`, `13 green cubes`, and `14 blue cubes`?\n",
    "\n",
    "In the example above, games 1, 2, and 5 would have been possible if the bag had been loaded with that configuration. However, game 3 would have been impossible because at one point the Elf showed you `20 red cubes` at once; similarly, game 4 would also have been impossible because the Elf showed you `15 blue cubes` at once. If you add up the IDs of the games that would have been possible, you get `8`.\n",
    "\n",
    "Determine which games would have been possible if the bag had been loaded with only `12 red cubes`, `13 green cubes`, and `14 blue cubes`. What is the sum of the IDs of those games?\n",
    "\n",
    "Your puzzle answer was `2207`.\n"
   ]
  },
  {
   "cell_type": "code",
   "execution_count": 3,
   "id": "01bd1e84",
   "metadata": {},
   "outputs": [],
   "source": [
    "def get_datos(input_str: str) -> dict:\n",
    "    input_str = input_str.split(\": \")[1]\n",
    "    rounds = input_str.split(\"; \")\n",
    "    datos = {\n",
    "        \"blue\": 0,\n",
    "        \"red\": 0,\n",
    "        \"green\": 0\n",
    "    }\n",
    "    for round in rounds:\n",
    "        colors = round.split(\", \")\n",
    "        for color in colors:\n",
    "            number, color = color.split(\" \")\n",
    "            datos[color] = max(datos[color], int(number))\n",
    "\n",
    "    return datos"
   ]
  },
  {
   "cell_type": "code",
   "execution_count": 4,
   "id": "3493d579",
   "metadata": {},
   "outputs": [
    {
     "data": {
      "text/plain": [
       "2207"
      ]
     },
     "execution_count": 4,
     "metadata": {},
     "output_type": "execute_result"
    }
   ],
   "source": [
    "maxRed=12\n",
    "maxGreen=13\n",
    "maxBlue=14\n",
    "\n",
    "file1 = open('game.txt', 'r')\n",
    "Lines = file1.read().splitlines()\n",
    "juegos = []\n",
    "for line in Lines:\n",
    "    meta = {\"gameID\": int(line.split(\": \")[0].split(\" \")[1]), \"datos\": get_datos(line)}\n",
    "    juegos.append(meta)\n",
    "suma_id = 0\n",
    "for j in juegos:\n",
    "    if j[\"datos\"][\"red\"] <= maxRed and j[\"datos\"][\"green\"] <= maxGreen and j[\"datos\"][\"blue\"] <= maxBlue:\n",
    "        suma_id += j[\"gameID\"]\n",
    "suma_id"
   ]
  },
  {
   "cell_type": "markdown",
   "id": "e2a22017",
   "metadata": {},
   "source": [
    "### Part 2\n",
    "Again consider the example games from earlier\n",
    "\n",
    "In game 1, the game could have been played with as few as `4 red`, `2 green`, and `6 blue` cubes. If any color had even one fewer cube, the game would have been impossible.\n",
    "\n",
    "- **Game 2** could have been played with a minimum of `1 red`, `3 green`, and `4 blue` cubes.\n",
    "- **Game 3** must have been played with at least `20 red`, `13 green`, and `6 blue` cubes.\n",
    "- **Game 4** required at least `14 red`, `3 green`, and `15 blue` cubes.\n",
    "- **Game 5** needed no fewer than `6 red`, `3 green`, and `2 blue` cubes in the bag.\n",
    "\n",
    "The power of a set of cubes is equal to the numbers of red, green, and blue cubes multiplied together. The power of the minimum set of cubes in game 1 is `48`. In games 2-5 it was `12`, `1560`, `630`, and `36`, respectively. Adding up these five powers produces the sum `2286`.\n",
    "\n",
    "For each game, find the minimum set of cubes that must have been present. What is the sum of the power of these sets?\n",
    "\n",
    "Your puzzle answer was `62241`.\n"
   ]
  },
  {
   "cell_type": "code",
   "execution_count": 5,
   "id": "739e8911",
   "metadata": {},
   "outputs": [
    {
     "data": {
      "text/plain": [
       "62241"
      ]
     },
     "execution_count": 5,
     "metadata": {},
     "output_type": "execute_result"
    }
   ],
   "source": [
    "sum_of_powers = 0\n",
    "for j in juegos:   \n",
    "    sum_of_powers += j['datos'][\"red\"] * j['datos'][\"green\"] * j['datos'][\"blue\"]\n",
    "sum_of_powers"
   ]
  }
 ],
 "metadata": {
  "kernelspec": {
   "display_name": "Python 3 (ipykernel)",
   "language": "python",
   "name": "python3"
  },
  "language_info": {
   "codemirror_mode": {
    "name": "ipython",
    "version": 3
   },
   "file_extension": ".py",
   "mimetype": "text/x-python",
   "name": "python",
   "nbconvert_exporter": "python",
   "pygments_lexer": "ipython3",
   "version": "3.10.5"
  }
 },
 "nbformat": 4,
 "nbformat_minor": 5
}
