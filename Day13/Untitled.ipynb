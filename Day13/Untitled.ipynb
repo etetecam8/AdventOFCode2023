{
 "cells": [
  {
   "cell_type": "markdown",
   "id": "ce5101a5",
   "metadata": {},
   "source": [
    "## Day 13: Point of Incidence\n",
    "### Part 1\n",
    "You note down the patterns of ash (`.`) and rocks (`#`) that you see as you walk (your puzzle input); perhaps by carefully analyzing these patterns, you can figure out where the mirrors are!\n",
    "\n",
    "For example:\n",
    "\n",
    "```\n",
    "#.##..##.\n",
    "..#.##.#.\n",
    "##......#\n",
    "##......#\n",
    "..#.##.#.\n",
    "..##..##.\n",
    "#.#.##.#.\n",
    "\n",
    "#...##..#\n",
    "#....#..#\n",
    "..##..###\n",
    "#####.##.\n",
    "#####.##.\n",
    "..##..###\n",
    "#....#..#\n",
    "\n",
    "```\n",
    "\n",
    "To find the reflection in each pattern, you need to find a perfect reflection across either a horizontal line between two rows or across a vertical line between two columns.\n",
    "\n",
    "In the first pattern, the reflection is across a vertical line between two columns; arrows on each of the two columns point at the line between the columns:\n",
    "\n",
    "```\n",
    "123456789\n",
    "    ><\n",
    "#.##..##.\n",
    "..#.##.#.\n",
    "##......#\n",
    "##......#\n",
    "..#.##.#.\n",
    "..##..##.\n",
    "#.#.##.#.\n",
    "    ><\n",
    "123456789\n",
    "\n",
    "```\n",
    "\n",
    "In this pattern, the line of reflection is the vertical line between columns 5 and 6. Because the vertical line is not perfectly in the middle of the pattern, part of the pattern (column 1) has nowhere to reflect onto and can be ignored; every other column has a reflected column within the pattern and must match exactly: column 2 matches column 9, column 3 matches 8, 4 matches 7, and 5 matches 6.\n",
    "\n",
    "The second pattern reflects across a horizontal line instead:\n",
    "\n",
    "```\n",
    "1 #...##..# 1\n",
    "2 #....#..# 2\n",
    "3 ..##..### 3\n",
    "4v#####.##.v4\n",
    "5^#####.##.^5\n",
    "6 ..##..### 6\n",
    "7 #....#..# 7\n",
    "\n",
    "```\n",
    "\n",
    "This pattern reflects across the horizontal line between rows 4 and 5. Row 1 would reflect with a hypothetical row 8, but since that's not in the pattern, row 1 doesn't need to match anything. The remaining rows match: row 2 matches row 7, row 3 matches row 6, and row 4 matches row 5.\n",
    "\n",
    "To summarize your pattern notes, add up the number of columns to the left of each vertical line of reflection; to that, also add 100 multiplied by the number of rows above each horizontal line of reflection. In the above example, the first pattern's vertical line has `5` columns to its left and the second pattern's horizontal line has `4` rows above it, a total of `405`.\n",
    "\n",
    "Find the line of reflection in each of the patterns in your notes. What number do you get after summarizing all of your notes?\n",
    "\n",
    "Your answer is `30518`"
   ]
  },
  {
   "cell_type": "code",
   "execution_count": 23,
   "id": "f2e7a1e1",
   "metadata": {},
   "outputs": [],
   "source": [
    "import numpy as np\n",
    "files=open('mirror.txt')\n",
    "datos=files.read().split(\"\\n\\n\")\n",
    "matriz = [np.array([list(line) for line in block.splitlines()]) for block in raw_data]"
   ]
  },
  {
   "cell_type": "code",
   "execution_count": 24,
   "id": "1f983477",
   "metadata": {},
   "outputs": [
    {
     "data": {
      "text/plain": [
       "30518"
      ]
     },
     "execution_count": 24,
     "metadata": {},
     "output_type": "execute_result"
    }
   ],
   "source": [
    "def find_reflection_point(data, reflec):\n",
    "    def mirror_axis(data):\n",
    "        for i in range(1, len(data)):\n",
    "            a, b = data[:i][::-1], data[i:]\n",
    "            trim = min(len(a), len(b))\n",
    "            if np.sum(a[:trim] != b[:trim]) == reflec:\n",
    "                return i\n",
    "        return 0\n",
    "\n",
    "    return 100 * mirror_axis(data) + mirror_axis(data.T)\n",
    "sum(find_reflection_point(datos, 0) for datos in matriz)"
   ]
  },
  {
   "cell_type": "markdown",
   "id": "86122557",
   "metadata": {},
   "source": [
    "### Part 2\n",
    "Upon closer inspection, you discover that every mirror has exactly one smudge: exactly one `.` or `#` should be the opposite type.\n",
    "\n",
    "In each pattern, you'll need to locate and fix the smudge that causes a different reflection line to be valid. (The old reflection line won't necessarily continue being valid after the smudge is fixed.)\n",
    "\n",
    "Here's the above example again:\n",
    "\n",
    "```\n",
    "#.##..##.\n",
    "..#.##.#.\n",
    "##......#\n",
    "##......#\n",
    "..#.##.#.\n",
    "..##..##.\n",
    "#.#.##.#.\n",
    "\n",
    "#...##..#\n",
    "#....#..#\n",
    "..##..###\n",
    "#####.##.\n",
    "#####.##.\n",
    "..##..###\n",
    "#....#..#\n",
    "\n",
    "```\n",
    "\n",
    "The first pattern's smudge is in the top-left corner. If the top-left `#` were instead `.`, it would have a different, horizontal line of reflection:\n",
    "\n",
    "```\n",
    "1 ..##..##. 1\n",
    "2 ..#.##.#. 2\n",
    "3v##......#v3\n",
    "4^##......#^4\n",
    "5 ..#.##.#. 5\n",
    "6 ..##..##. 6\n",
    "7 #.#.##.#. 7\n",
    "\n",
    "```\n",
    "\n",
    "With the smudge in the top-left corner repaired, a new horizontal line of reflection between rows 3 and 4 now exists. Row 7 has no corresponding reflected row and can be ignored, but every other row matches exactly: row 1 matches row 6, row 2 matches row 5, and row 3 matches row 4.\n",
    "\n",
    "In the second pattern, the smudge can be fixed by changing the fifth symbol on row 2 from `.` to `#`:\n",
    "\n",
    "```\n",
    "1v#...##..#v1\n",
    "2^#...##..#^2\n",
    "3 ..##..### 3\n",
    "4 #####.##. 4\n",
    "5 #####.##. 5\n",
    "6 ..##..### 6\n",
    "7 #....#..# 7\n",
    "\n",
    "```\n",
    "\n",
    "Now, the pattern has a different horizontal line of reflection between rows 1 and 2.\n",
    "\n",
    "Summarize your notes as before, but instead use the new different reflection lines. In this example, the first pattern's new horizontal line has 3 rows above it and the second pattern's new horizontal line has 1 row above it, summarizing to the value `400`.\n",
    "\n",
    "In each pattern, fix the smudge and find the different line of reflection. What number do you get after summarizing the new reflection line in each pattern in your notes?\n",
    "\n",
    "Your answer is `36735`"
   ]
  },
  {
   "cell_type": "code",
   "execution_count": 25,
   "id": "56dcc775",
   "metadata": {},
   "outputs": [
    {
     "data": {
      "text/plain": [
       "36735"
      ]
     },
     "execution_count": 25,
     "metadata": {},
     "output_type": "execute_result"
    }
   ],
   "source": [
    "sum(find_reflection_point(datos, 1) for datos in matriz)"
   ]
  }
 ],
 "metadata": {
  "kernelspec": {
   "display_name": "Python 3 (ipykernel)",
   "language": "python",
   "name": "python3"
  },
  "language_info": {
   "codemirror_mode": {
    "name": "ipython",
    "version": 3
   },
   "file_extension": ".py",
   "mimetype": "text/x-python",
   "name": "python",
   "nbconvert_exporter": "python",
   "pygments_lexer": "ipython3",
   "version": "3.10.5"
  }
 },
 "nbformat": 4,
 "nbformat_minor": 5
}
