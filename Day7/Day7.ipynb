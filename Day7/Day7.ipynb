{
 "cells": [
  {
   "cell_type": "markdown",
   "id": "db3cc282",
   "metadata": {},
   "source": [
    "## Day 7: Camel Cards\n",
    "### Part 1\n",
    "In Camel Cards, you get a list of hands, and your goal is to order them based on the strength of each hand. A hand consists of five cards labeled one of A, K, Q, J, T, 9, 8, 7, 6, 5, 4, 3, or 2. The relative strength of each card follows this order, where A is the highest and 2 is the lowest.\n",
    "\n",
    "Every hand is exactly one type. From strongest to weakest, they are:\n",
    "\n",
    "1. **Five of a kind**, where all five cards have the same label: `AAAAA`\n",
    "2. **Four of a kind**, where four cards have the same label and one card has a different label: `AA8AA`\n",
    "3. **Full house**, where three cards have the same label, and the remaining two cards share a different label: `23332`\n",
    "4. **Three of a kind**, where three cards have the same label, and the remaining two cards are each different from any other card in the hand: `TTT98`\n",
    "5. **Two pair**, where two cards share one label, two other cards share a second label, and the remaining card has a third label: `23432`\n",
    "6. **One pair**, where two cards share one label, and the other three cards have a different label from the pair and each other: `A23A4`\n",
    "7. **High card**, where all cards' labels are distinct: `23456`\n",
    "\n",
    "Hands are primarily ordered based on type; for example, every full house is stronger than any three of a kind.\n",
    "\n",
    "If two hands have the same type, a second ordering rule takes effect. Start by comparing the first card in each hand. If these cards are different, the hand with the stronger first card is considered stronger. If the first card in each hand have the same label, however, then move on to considering the second card in each hand. If they differ, the hand with the higher second card wins; otherwise, continue with the third card in each hand, then the fourth, then the fifth.\n",
    "\n",
    "So, `33332` and `2AAAA` are both four of a kind hands, but `33332` is stronger because its first card is stronger. Similarly, `77888` and `77788` are both a full house, but `77888` is stronger because its third card is stronger (and both hands have the same first and second card).\n",
    "\n",
    "To play Camel Cards, you are given a list of hands and their corresponding bid (your puzzle input). For example:\n",
    "\n",
    "- `32T3K` 765\n",
    "- `T55J5` 684\n",
    "- `KK677` 28\n",
    "- `KTJJT` 220\n",
    "- `QQQJA` 483\n",
    "\n",
    "This example shows five hands; each hand is followed by its bid amount. Each hand wins an amount equal to its bid multiplied by its rank, where the weakest hand gets rank 1, the second-weakest hand gets rank 2, and so on up to the strongest hand. Because there are five hands in this example, the strongest hand will have rank 5 and its bid will be multiplied by 5.\n",
    "\n",
    "So, the first step is to put the hands in order of strength:\n",
    "\n",
    "- `32T3K` is the only one pair and the other hands are all a stronger type, so it gets rank 1.\n",
    "- `KK677` and `KTJJT` are both two pair. Their first cards both have the same label, but the second card of `KK677` is stronger (K vs T), so `KTJJT` gets rank 2 and `KK677` gets rank 3.\n",
    "- `T55J5` and `QQQJA` are both three of a kind. `QQQJA` has a stronger first card, so it gets rank 5 and `T55J5` gets rank 4.\n",
    "\n",
    "Now, you can determine the total winnings of this set of hands by adding up the result of multiplying each hand's bid with its rank (765 * 1 + 220 * 2 + 28 * 3 + 684 * 4 + 483 * 5). So the total winnings in this example are 6440.\n",
    "\n",
    "Your puzzle answer was 249638405.\n"
   ]
  },
  {
   "cell_type": "code",
   "execution_count": 76,
   "id": "bc406b81",
   "metadata": {},
   "outputs": [],
   "source": [
    "File=open('camel.txt')\n",
    "dat=File.read().splitlines()\n"
   ]
  },
  {
   "cell_type": "code",
   "execution_count": 73,
   "id": "9a936ca8",
   "metadata": {},
   "outputs": [
    {
     "data": {
      "text/plain": [
       "249638405"
      ]
     },
     "execution_count": 73,
     "metadata": {},
     "output_type": "execute_result"
    }
   ],
   "source": [
    "def card_value(hands, j_as_joker = False):\n",
    "    values = {'A': 14, 'K': 13, 'Q': 12, 'J': 11, 'T': 10}\n",
    "    values.update({x: int(x) for x in '987654321'})\n",
    "\n",
    "    if j_as_joker:\n",
    "        values['J'] = 1\n",
    "\n",
    "    card_val = sum((100**(4 - i)) * values[h] for i, h in enumerate(hands))\n",
    "\n",
    "    occurence = {h: sum(c == h for c in hands) for h in hands}\n",
    "\n",
    "    if j_as_joker and 'J' in occurence:\n",
    "        j_count = occurence['J']\n",
    "        del occurence['J']\n",
    "        if j_count == 5:\n",
    "            occurence['A'] = 5\n",
    "        else:\n",
    "            top_card = max(occurence.items(), key = lambda x: (x[1], card_vals[x[0]]))[0]\n",
    "            occurence[top_card] += j_count\n",
    "\n",
    "    counts = sorted(occurence.values(), reverse = True)\n",
    "\n",
    "    if counts[0] == 5:\n",
    "        hand_val = 6\n",
    "    elif counts[0] == 4:\n",
    "        hand_val = 5\n",
    "    elif counts[0] == 3 and counts[1] == 2:\n",
    "        hand_val = 4\n",
    "    elif counts[0] == 3:\n",
    "        hand_val = 3\n",
    "    elif counts[0] == 2 and counts[1] == 2:\n",
    "        hand_val = 2\n",
    "    elif counts[0] == 2 and counts[1] == 1:\n",
    "        hand_val = 1\n",
    "    else:\n",
    "        hand_val = 0\n",
    "\n",
    "    return hand_val * 100 ** 5 + card_val\n",
    "\n",
    "\n",
    "\n",
    "hand = [card_value(d.split(' ')[0]) for d in dat]\n",
    "bids = [int(d.split(' ')[1]) for d in dat]\n",
    "order_bid = sorted(((v, b) for v, b in zip(hand, bids)), key = lambda x: x[0])\n",
    "winnings = sum((i + 1) * t[1] for i, t in enumerate(order_bid))\n",
    "\n",
    "winnings"
   ]
  },
  {
   "cell_type": "markdown",
   "id": "4efc4dee",
   "metadata": {},
   "source": [
    "### Part 2\n",
    "Now, J cards are jokers - wildcards that can act like whatever card would make the hand the strongest type possible.\n",
    "\n",
    "To balance this, J cards are now the weakest individual cards, weaker even than 2. The other cards stay in the same order: A, K, Q, T, 9, 8, 7, 6, 5, 4, 3, 2, J.\n",
    "\n",
    "J cards can pretend to be whatever card is best for the purpose of determining hand type; for example, `QJJQ2` is now considered four of a kind. However, for the purpose of breaking ties between two hands of the same type, J is always treated as J, not the card it's pretending to be: `JKKK2` is weaker than `QQQQ2` because J is weaker than Q.\n",
    "\n",
    "Now, the above example goes very differently:\n",
    "\n",
    "- `32T3K` 765\n",
    "- `T55J5` 684\n",
    "- `KK677` 28\n",
    "- `KTJJT` 220\n",
    "- `QQQJA` 483\n",
    "\n",
    "`32T3K` is still the only one pair; it doesn't contain any jokers, so its strength doesn't increase.\n",
    "`KK677` is now the only two pair, making it the second-weakest hand.\n",
    "`T55J5`, `KTJJT`, and `QQQJA` are now all four of a kind! `T55J5` gets rank 3, `QQQJA` gets rank 4, and `KTJJT` gets rank 5.\n",
    "\n",
    "With the new joker rule, the total winnings in this example are 5905.\n",
    "\n",
    "Using the new joker rule, find the rank of every hand in your set. What are the new total winnings?\n",
    "\n",
    "Your puzzle answer was 249776650.\n"
   ]
  },
  {
   "cell_type": "code",
   "execution_count": 75,
   "id": "f101220a",
   "metadata": {},
   "outputs": [
    {
     "data": {
      "text/plain": [
       "249776650"
      ]
     },
     "execution_count": 75,
     "metadata": {},
     "output_type": "execute_result"
    }
   ],
   "source": [
    "\n",
    "hand_vals = [hand_value(d.split(' ')[0], j_as_joker = True) for d in dat]\n",
    "hand_bids = [int(d.split(' ')[1]) for d in dat]\n",
    "\n",
    "type_bid = sorted(((v, b) for v, b in zip(hand_vals, hand_bids)), key = lambda x: x[0])\n",
    "total_winnings = sum((i + 1) * t[1] for i, t in enumerate(type_bid))\n",
    "total_winnings"
   ]
  }
 ],
 "metadata": {
  "kernelspec": {
   "display_name": "Python 3 (ipykernel)",
   "language": "python",
   "name": "python3"
  },
  "language_info": {
   "codemirror_mode": {
    "name": "ipython",
    "version": 3
   },
   "file_extension": ".py",
   "mimetype": "text/x-python",
   "name": "python",
   "nbconvert_exporter": "python",
   "pygments_lexer": "ipython3",
   "version": "3.10.5"
  }
 },
 "nbformat": 4,
 "nbformat_minor": 5
}
