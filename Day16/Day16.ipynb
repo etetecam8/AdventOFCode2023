{
 "cells": [
  {
   "cell_type": "markdown",
   "id": "4e02dee7",
   "metadata": {},
   "source": [
    "## Day 16: The Floor Will Be Lava\n",
    "### Part 1\n",
    "Upon closer inspection, the contraption appears to be a flat, two-dimensional square grid containing empty space (`.`), mirrors (`/` and `\\`), and splitters (`|` and `-`).\n",
    "\n",
    "The contraption is aligned so that most of the beam bounces around the grid, but each tile on the grid converts some of the beam's light into heat to melt the rock in the cavern.\n",
    "\n",
    "You note the layout of the contraption (your puzzle input). For example:\n",
    "\n",
    "```\n",
    ".|...\\....\n",
    "|.-.\\.....\n",
    ".....|-...\n",
    "........|.\n",
    "..........\n",
    ".........\\\n",
    "..../.\\\\..\n",
    ".-.-/..|..\n",
    ".|....-|.\\\n",
    "..//.|....\n",
    "\n",
    "```\n",
    "\n",
    "The beam enters in the top-left corner from the left and heading to the right. Then, its behavior depends on what it encounters as it moves:\n",
    "\n",
    "-   If the beam encounters empty space (`.`), it continues in the same direction.\n",
    "-   If the beam encounters a mirror (`/` or `\\`), the beam is reflected 90 degrees depending on the angle of the mirror. For instance, a rightward-moving beam that encounters a `/` mirror would continue upward in the mirror's column, while a rightward-moving beam that encounters a `\\` mirror would continue downward from the mirror's column.\n",
    "-   If the beam encounters the pointy end of a splitter (`|` or `-`), the beam passes through the splitter as if the splitter were empty space. For instance, a rightward-moving beam that encounters a `-` splitter would continue in the same direction.\n",
    "-   If the beam encounters the flat side of a splitter (`|` or `-`), the beam is split into two beams going in each of the two directions the splitter's pointy ends are pointing. For instance, a rightward-moving beam that encounters a `|` splitter would split into two beams: one that continues upward from the splitter's column and one that continues downward from the splitter's column.\n",
    "\n",
    "Beams do not interact with other beams; a tile can have many beams passing through it at the same time. A tile is energized if that tile has at least one beam pass through it, reflect in it, or split in it.\n",
    "\n",
    "In the above example, here is how the beam of light bounces around the contraption:\n",
    "\n",
    "```\n",
    ">|<<<\\....\n",
    "|v-.\\^....\n",
    ".v...|->>>\n",
    ".v...v^.|.\n",
    ".v...v^...\n",
    ".v...v^..\\\n",
    ".v../2\\\\..\n",
    "<->-/vv|..\n",
    ".|<<<2-|.\\\n",
    ".v//.|.v..\n",
    "\n",
    "```\n",
    "\n",
    "Beams are only shown on empty tiles; arrows indicate the direction of the beams. If a tile contains beams moving in multiple directions, the number of distinct directions is shown instead. Here is the same diagram but instead only showing whether a tile is energized (`#`) or not (`.`):\n",
    "\n",
    "```\n",
    "######....\n",
    ".#...#....\n",
    ".#...#####\n",
    ".#...##...\n",
    ".#...##...\n",
    ".#...##...\n",
    ".#..####..\n",
    "########..\n",
    ".#######..\n",
    ".#...#.#..\n",
    "\n",
    "```\n",
    "\n",
    "Ultimately, in this example, `46` tiles become energized.\n",
    "\n",
    "The light isn't energizing enough tiles to produce lava; to debug the contraption, you need to start by analyzing the current situation. With the beam starting in the top-left heading right, how many tiles end up being energized?\n",
    "\n",
    "Your puzzle answer was 6795."
   ]
  },
  {
   "cell_type": "code",
   "execution_count": 7,
   "id": "4babe301",
   "metadata": {},
   "outputs": [],
   "source": [
    "file=open('beam.txt')\n",
    "datos=file.read().splitlines()\n",
    "m, n = len(datos), len(datos[0])"
   ]
  },
  {
   "cell_type": "code",
   "execution_count": 16,
   "id": "d30645a3",
   "metadata": {},
   "outputs": [
    {
     "data": {
      "text/plain": [
       "6795"
      ]
     },
     "execution_count": 16,
     "metadata": {},
     "output_type": "execute_result"
    }
   ],
   "source": [
    "def direction(start):\n",
    "    states = set()\n",
    "    positions = set()\n",
    "    stack = [start]\n",
    "    \n",
    "    while stack:\n",
    "        y, x, dy, dx = stack.pop()\n",
    "        new_state = (y, x, dy, dx)\n",
    "\n",
    "        if new_state in states:\n",
    "            continue\n",
    "        states.add(new_state)\n",
    "\n",
    "        new_y, new_x = y + dy, x + dx\n",
    "\n",
    "        if not (0 <= new_y < m and 0 <= new_x < n):\n",
    "            continue\n",
    "\n",
    "        char = datos[new_y][new_x]\n",
    "        if char == \"/\":\n",
    "            dy, dx = -dx, -dy\n",
    "        elif char == \"\\\\\":\n",
    "            dy, dx = dx, dy\n",
    "        elif char == \"|\" and dx:\n",
    "            stack.append((new_y, new_x, -1, 0))\n",
    "            dy, dx = 1, 0\n",
    "        elif char == \"-\" and dy:\n",
    "            stack.append((new_y, new_x, 0, -1))\n",
    "            dy, dx = 0, 1\n",
    "\n",
    "        positions.add((new_y, new_x))\n",
    "        stack.append((new_y, new_x, dy, dx))\n",
    "\n",
    "    return len(positions)\n",
    "\n",
    "\n",
    "direction((0, -1, 0, 1))\n"
   ]
  },
  {
   "cell_type": "markdown",
   "id": "8bd0211a",
   "metadata": {},
   "source": [
    "### Part 2\n",
    "So, the beam could start on any tile in the top row (heading downward), any tile in the bottom row (heading upward), any tile in the leftmost column (heading right), or any tile in the rightmost column (heading left). To produce lava, you need to find the configuration that energizes as many tiles as possible.\n",
    "\n",
    "In the above example, this can be achieved by starting the beam in the fourth tile from the left in the top row:\n",
    "\n",
    "```\n",
    ".|<2<\\....\n",
    "|v-v\\^....\n",
    ".v.v.|->>>\n",
    ".v.v.v^.|.\n",
    ".v.v.v^...\n",
    ".v.v.v^..\\\n",
    ".v.v/2\\\\..\n",
    "<-2-/vv|..\n",
    ".|<<<2-|.\\\n",
    ".v//.|.v..\n",
    "\n",
    "```\n",
    "\n",
    "Using this configuration, `51` tiles are energized:\n",
    "\n",
    "```\n",
    ".#####....\n",
    ".#.#.#....\n",
    ".#.#.#####\n",
    ".#.#.##...\n",
    ".#.#.##...\n",
    ".#.#.##...\n",
    ".#.#####..\n",
    "########..\n",
    ".#######..\n",
    ".#...#.#..\n",
    "\n",
    "```\n",
    "\n",
    "Find the initial beam configuration that energizes the largest number of tiles; how many tiles are energized in that configuration?\n",
    "\n",
    "Your puzzle answer was 7154."
   ]
  },
  {
   "cell_type": "code",
   "execution_count": 18,
   "id": "fbbe93f0",
   "metadata": {},
   "outputs": [
    {
     "data": {
      "text/plain": [
       "7154"
      ]
     },
     "execution_count": 18,
     "metadata": {},
     "output_type": "execute_result"
    }
   ],
   "source": [
    "def start_points():\n",
    "    return [(y, -1, 0, 1) for y in range(m)] + \\\n",
    "           [(y, n - 1, 0, -1) for y in range(m)] + \\\n",
    "           [(-1, x, 1, 0) for x in range(n)] + \\\n",
    "           [(m - 1, x, -1, 0) for x in range(n)]\n",
    "\n",
    "max(map(direction, start_points()))"
   ]
  }
 ],
 "metadata": {
  "kernelspec": {
   "display_name": "Python 3 (ipykernel)",
   "language": "python",
   "name": "python3"
  },
  "language_info": {
   "codemirror_mode": {
    "name": "ipython",
    "version": 3
   },
   "file_extension": ".py",
   "mimetype": "text/x-python",
   "name": "python",
   "nbconvert_exporter": "python",
   "pygments_lexer": "ipython3",
   "version": "3.10.5"
  }
 },
 "nbformat": 4,
 "nbformat_minor": 5
}
