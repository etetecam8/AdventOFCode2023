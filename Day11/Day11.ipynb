{
 "cells": [
  {
   "cell_type": "markdown",
   "id": "4bc14b05",
   "metadata": {},
   "source": [
    "## Day 11: Cosmic Expansion\n",
    "### Part 1\n",
    "\n",
    "You continue following signs for \"Hot Springs\" and eventually come across an [observatory](https://en.wikipedia.org/wiki/Observatory). The Elf within turns out to be a researcher studying cosmic expansion using the giant telescope here.\n",
    "\n",
    "He doesn't know anything about the missing machine parts; he's only visiting for this research project. However, he confirms that the hot springs are the next-closest area likely to have people; he'll even take you straight there once he's done with today's observation analysis.\n",
    "\n",
    "Maybe you can help him with the analysis to speed things up?\n",
    "\n",
    "The researcher has collected a bunch of data and compiled the data into a single giant image (your puzzle input). The image includes empty space (`.`) and galaxies (`#`). For example:\n",
    "\n",
    "```\n",
    "...#......\n",
    ".......#..\n",
    "#.........\n",
    "..........\n",
    "......#...\n",
    ".#........\n",
    ".........#\n",
    "..........\n",
    ".......#..\n",
    "#...#.....\n",
    "\n",
    "```\n",
    "\n",
    "The researcher is trying to figure out the sum of the lengths of the shortest path between every pair of galaxies. However, there's a catch: the universe expanded in the time it took the light from those galaxies to reach the observatory.\n",
    "\n",
    "Due to something involving gravitational effects, only some space expands. In fact, the result is that any rows or columns that contain no galaxies should all actually be twice as big.\n",
    "\n",
    "In the above example, three columns and two rows contain no galaxies:\n",
    "\n",
    "```\n",
    "   v  v  v\n",
    " ...#......\n",
    " .......#..\n",
    " #.........\n",
    ">..........<\n",
    " ......#...\n",
    " .#........\n",
    " .........#\n",
    ">..........<\n",
    " .......#..\n",
    " #...#.....\n",
    "   ^  ^  ^\n",
    "\n",
    "```\n",
    "\n",
    "These rows and columns need to be twice as big; the result of cosmic expansion therefore looks like this:\n",
    "\n",
    "```\n",
    "....#........\n",
    ".........#...\n",
    "#............\n",
    ".............\n",
    ".............\n",
    "........#....\n",
    ".#...........\n",
    "............#\n",
    ".............\n",
    ".............\n",
    ".........#...\n",
    "#....#.......\n",
    "\n",
    "```\n",
    "\n",
    "Equipped with this expanded universe, the shortest path between every pair of galaxies can be found. It can help to assign every galaxy a unique number:\n",
    "\n",
    "```\n",
    "....1........\n",
    ".........2...\n",
    "3............\n",
    ".............\n",
    ".............\n",
    "........4....\n",
    ".5...........\n",
    "............6\n",
    ".............\n",
    ".............\n",
    ".........7...\n",
    "8....9.......\n",
    "\n",
    "```\n",
    "\n",
    "In these 9 galaxies, there are 36 pairs. Only count each pair once; order within the pair doesn't matter. For each pair, find any shortest path between the two galaxies using only steps that move up, down, left, or right exactly one `.` or `#` at a time. (The shortest path between two galaxies is allowed to pass through another galaxy.)\n",
    "\n",
    "For example, here is one of the shortest paths between galaxies `5` and `9`:\n",
    "\n",
    "```\n",
    "....1........\n",
    ".........2...\n",
    "3............\n",
    ".............\n",
    ".............\n",
    "........4....\n",
    ".5...........\n",
    ".##.........6\n",
    "..##.........\n",
    "...##........\n",
    "....##...7...\n",
    "8....9.......\n",
    "\n",
    "```\n",
    "\n",
    "This path has length `9` because it takes a minimum of nine steps to get from galaxy `5` to galaxy `9` (the eight locations marked `#` plus the step onto galaxy `9` itself). Here are some other example shortest path lengths:\n",
    "\n",
    "-   Between galaxy `1` and galaxy `7`: 15\n",
    "-   Between galaxy `3` and galaxy `6`: 17\n",
    "-   Between galaxy `8` and galaxy `9`: 5\n",
    "\n",
    "In this example, after expanding the universe, the sum of the shortest path between all 36 pairs of galaxies is `374`.\n",
    "\n",
    "Expand the universe, then find the length of the shortest path between every pair of galaxies. What is the sum of these lengths?\n",
    "\n",
    "Your puzzle answer was 9312968.\n"
   ]
  },
  {
   "cell_type": "code",
   "execution_count": 64,
   "id": "ebef1dfb",
   "metadata": {},
   "outputs": [],
   "source": [
    "from itertools import combinations\n",
    "File=open('galaxy.txt')\n",
    "datos=File.read().splitlines()\n",
    "datos=[list(row) for row in datos]\n",
    "w,h = len(datos[0]), len(datos)\n",
    "galaxies = [(x,y) for y in range(h) for x in range(w) if datos[y][x] == \"#\"]\n",
    "cols = [x for x in range(w) if all(datos[y][x] == \".\" for y in range(h))]\n",
    "rows = [y for y in range(h) if all(datos[y][x] == \".\" for x in range(w))]\n"
   ]
  },
  {
   "cell_type": "code",
   "execution_count": 67,
   "id": "98a0e3c9",
   "metadata": {},
   "outputs": [
    {
     "data": {
      "text/plain": [
       "9312968"
      ]
     },
     "execution_count": 67,
     "metadata": {},
     "output_type": "execute_result"
    }
   ],
   "source": [
    "\n",
    "def expand(factor,galaxies,col,rows):\n",
    "    expanded = []\n",
    "\n",
    "    for (x,y) in galaxies:\n",
    "        cs = (factor - 1) * sum(1 for c in cols if c < x)\n",
    "        rs = (factor - 1) * sum(1 for r in rows if r < y)\n",
    "\n",
    "        expanded.append((x+cs,y+rs))\n",
    "\n",
    "    return expanded\n",
    "\n",
    "def distance(p1, p2):\n",
    "    x1,y1 = p1\n",
    "    x2,y2 = p2\n",
    "\n",
    "    return abs(x2 - x1) + abs(y2 - y1)\n",
    "\n",
    "sum(distance(g1,g2) for g1,g2 in combinations(expand(2,galaxies,cols,rows),2))\n"
   ]
  },
  {
   "cell_type": "markdown",
   "id": "312a0800",
   "metadata": {},
   "source": [
    "### Part 2\n",
    "The galaxies are much older (and thus much farther apart) than the researcher initially estimated.\n",
    "\n",
    "Now, instead of the expansion you did before, make each empty row or column one million times larger. That is, each empty row should be replaced with `1000000` empty rows, and each empty column should be replaced with `1000000` empty columns.\n",
    "\n",
    "(In the example above, if each empty row or column were merely `10` times larger, the sum of the shortest paths between every pair of galaxies would be `1030`. If each empty row or column were merely `100` times larger, the sum of the shortest paths between every pair of galaxies would be `8410`. However, your universe will need to expand far beyond these values.)\n",
    "\n",
    "Starting with the same initial image, expand the universe according to these new rules, then find the length of the shortest path between every pair of galaxies. What is the sum of these lengths?\n",
    "\n",
    "Your puzzle answer was `597714117556`.\n"
   ]
  },
  {
   "cell_type": "code",
   "execution_count": 69,
   "id": "9cd61306",
   "metadata": {},
   "outputs": [
    {
     "data": {
      "text/plain": [
       "597714117556"
      ]
     },
     "execution_count": 69,
     "metadata": {},
     "output_type": "execute_result"
    }
   ],
   "source": [
    "sum(distance(g1,g2) for g1,g2 in combinations(expand(1000000,galaxies,cols,rows),2))"
   ]
  }
 ],
 "metadata": {
  "kernelspec": {
   "display_name": "Python 3 (ipykernel)",
   "language": "python",
   "name": "python3"
  },
  "language_info": {
   "codemirror_mode": {
    "name": "ipython",
    "version": 3
   },
   "file_extension": ".py",
   "mimetype": "text/x-python",
   "name": "python",
   "nbconvert_exporter": "python",
   "pygments_lexer": "ipython3",
   "version": "3.10.5"
  }
 },
 "nbformat": 4,
 "nbformat_minor": 5
}
